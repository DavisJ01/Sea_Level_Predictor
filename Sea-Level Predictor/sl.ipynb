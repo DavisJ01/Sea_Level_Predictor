{
 "cells": [
  {
   "cell_type": "code",
   "execution_count": null,
   "metadata": {},
   "outputs": [],
   "source": [
    "import numpy as np\n",
    "import pandas as pd\n",
    "import matplotlib.pyplot as plt\n",
    "import seaborn as sns\n",
    "from scipy.stats import linregress\n",
    "%matplotlib inline"
   ]
  },
  {
   "cell_type": "code",
   "execution_count": null,
   "metadata": {},
   "outputs": [],
   "source": [
    "df = pd.read_csv(\"epa-sea-level.csv\")\n",
    "df"
   ]
  },
  {
   "cell_type": "code",
   "execution_count": null,
   "metadata": {},
   "outputs": [],
   "source": [
    "fig = plt.figure(figsize=(12,6))\n",
    "plt.scatter(data=df, x = \"Year\", y=\"CSIRO Adjusted Sea Level\")"
   ]
  },
  {
   "cell_type": "code",
   "execution_count": null,
   "metadata": {},
   "outputs": [],
   "source": [
    "l = linregress(x = df['Year'],y = df['CSIRO Adjusted Sea Level'])\n",
    "slope = l.slope\n",
    "intercept = l.intercept\n",
    "r_2050 = range(1880,2051)\n",
    "fit_y = slope*r_2050 + intercept\n",
    "fig = plt.figure(figsize=(12,6))\n",
    "plt.scatter(data=df, x = \"Year\", y=\"CSIRO Adjusted Sea Level\")\n",
    "plt.plot(r_2050,fit_y,color=\"red\")"
   ]
  },
  {
   "cell_type": "code",
   "execution_count": null,
   "metadata": {},
   "outputs": [],
   "source": [
    "l1 = linregress(x= df[df['Year']>=2000]['Year'], y = df[df['Year']>=2000]['CSIRO Adjusted Sea Level'])\n",
    "slope_l1 = l1.slope\n",
    "intercept_l1 = l1.intercept\n",
    "r_2000 = range(2000,2051)\n",
    "fit_y1 = slope_l1*r_2000 + intercept_l1\n",
    "fig = plt.figure(figsize=(12,6))\n",
    "plt.scatter(data=df, x = \"Year\", y=\"CSIRO Adjusted Sea Level\")\n",
    "plt.plot(r_2050,fit_y,color=\"red\")\n",
    "plt.plot(r_2000,fit_y1,color=\"green\")\n",
    "plt.xlabel(\"Year\")\n",
    "plt.ylabel(\"Sea Level (inches)\")\n",
    "plt.title(\"Rise in Sea Level\")"
   ]
  },
  {
   "cell_type": "code",
   "execution_count": null,
   "metadata": {},
   "outputs": [],
   "source": []
  }
 ],
 "metadata": {
  "kernelspec": {
   "display_name": "Python 3.9.7 ('base')",
   "language": "python",
   "name": "python3"
  },
  "language_info": {
   "codemirror_mode": {
    "name": "ipython",
    "version": 3
   },
   "file_extension": ".py",
   "mimetype": "text/x-python",
   "name": "python",
   "nbconvert_exporter": "python",
   "pygments_lexer": "ipython3",
   "version": "3.9.7"
  },
  "orig_nbformat": 4,
  "vscode": {
   "interpreter": {
    "hash": "967d641c0a33fdd66f309d91abff85d21464085ea24454481cc94eea663f2b7b"
   }
  }
 },
 "nbformat": 4,
 "nbformat_minor": 2
}
